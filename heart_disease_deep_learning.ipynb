{
  "nbformat": 4,
  "nbformat_minor": 0,
  "metadata": {
    "colab": {
      "name": "heart_disease_deep_learning",
      "provenance": [],
      "collapsed_sections": []
    },
    "kernelspec": {
      "name": "python3",
      "display_name": "Python 3"
    },
    "language_info": {
      "name": "python"
    }
  },
  "cells": [
    {
      "cell_type": "code",
      "metadata": {
        "id": "6XqfPWj4GaCw"
      },
      "source": [
        "import pandas as pd\n",
        "import numpy as np\n",
        "import matplotlib.pyplot as plt\n",
        "import seaborn as sns\n",
        "sns.set(context=\"talk\")\n",
        "\n",
        "from sklearn.model_selection import train_test_split\n",
        "from sklearn.preprocessing import MinMaxScaler\n",
        "\n",
        "from tensorflow import nn, optimizers\n",
        "from keras.models import Sequential\n",
        "from keras.layers import Flatten, Dense, Dropout\n",
        "from keras.callbacks import EarlyStopping"
      ],
      "execution_count": 39,
      "outputs": []
    },
    {
      "cell_type": "markdown",
      "metadata": {
        "id": "11AkAPR4HAKc"
      },
      "source": [
        "# Import Dataset"
      ]
    },
    {
      "cell_type": "code",
      "metadata": {
        "id": "6gum2tPpG8Xq"
      },
      "source": [
        "df = pd.read_csv(\"/content/heart.csv\")"
      ],
      "execution_count": 2,
      "outputs": []
    },
    {
      "cell_type": "code",
      "metadata": {
        "colab": {
          "base_uri": "https://localhost:8080/",
          "height": 203
        },
        "id": "SLkZQQR_HEIw",
        "outputId": "2df91846-ae2d-43b1-b09b-18d68f59077e"
      },
      "source": [
        "df.head()"
      ],
      "execution_count": 4,
      "outputs": [
        {
          "output_type": "execute_result",
          "data": {
            "text/html": [
              "<div>\n",
              "<style scoped>\n",
              "    .dataframe tbody tr th:only-of-type {\n",
              "        vertical-align: middle;\n",
              "    }\n",
              "\n",
              "    .dataframe tbody tr th {\n",
              "        vertical-align: top;\n",
              "    }\n",
              "\n",
              "    .dataframe thead th {\n",
              "        text-align: right;\n",
              "    }\n",
              "</style>\n",
              "<table border=\"1\" class=\"dataframe\">\n",
              "  <thead>\n",
              "    <tr style=\"text-align: right;\">\n",
              "      <th></th>\n",
              "      <th>age</th>\n",
              "      <th>sex</th>\n",
              "      <th>cp</th>\n",
              "      <th>trestbps</th>\n",
              "      <th>chol</th>\n",
              "      <th>fbs</th>\n",
              "      <th>restecg</th>\n",
              "      <th>thalach</th>\n",
              "      <th>exang</th>\n",
              "      <th>oldpeak</th>\n",
              "      <th>slope</th>\n",
              "      <th>ca</th>\n",
              "      <th>thal</th>\n",
              "      <th>target</th>\n",
              "    </tr>\n",
              "  </thead>\n",
              "  <tbody>\n",
              "    <tr>\n",
              "      <th>0</th>\n",
              "      <td>63</td>\n",
              "      <td>1</td>\n",
              "      <td>3</td>\n",
              "      <td>145</td>\n",
              "      <td>233</td>\n",
              "      <td>1</td>\n",
              "      <td>0</td>\n",
              "      <td>150</td>\n",
              "      <td>0</td>\n",
              "      <td>2.3</td>\n",
              "      <td>0</td>\n",
              "      <td>0</td>\n",
              "      <td>1</td>\n",
              "      <td>1</td>\n",
              "    </tr>\n",
              "    <tr>\n",
              "      <th>1</th>\n",
              "      <td>37</td>\n",
              "      <td>1</td>\n",
              "      <td>2</td>\n",
              "      <td>130</td>\n",
              "      <td>250</td>\n",
              "      <td>0</td>\n",
              "      <td>1</td>\n",
              "      <td>187</td>\n",
              "      <td>0</td>\n",
              "      <td>3.5</td>\n",
              "      <td>0</td>\n",
              "      <td>0</td>\n",
              "      <td>2</td>\n",
              "      <td>1</td>\n",
              "    </tr>\n",
              "    <tr>\n",
              "      <th>2</th>\n",
              "      <td>41</td>\n",
              "      <td>0</td>\n",
              "      <td>1</td>\n",
              "      <td>130</td>\n",
              "      <td>204</td>\n",
              "      <td>0</td>\n",
              "      <td>0</td>\n",
              "      <td>172</td>\n",
              "      <td>0</td>\n",
              "      <td>1.4</td>\n",
              "      <td>2</td>\n",
              "      <td>0</td>\n",
              "      <td>2</td>\n",
              "      <td>1</td>\n",
              "    </tr>\n",
              "    <tr>\n",
              "      <th>3</th>\n",
              "      <td>56</td>\n",
              "      <td>1</td>\n",
              "      <td>1</td>\n",
              "      <td>120</td>\n",
              "      <td>236</td>\n",
              "      <td>0</td>\n",
              "      <td>1</td>\n",
              "      <td>178</td>\n",
              "      <td>0</td>\n",
              "      <td>0.8</td>\n",
              "      <td>2</td>\n",
              "      <td>0</td>\n",
              "      <td>2</td>\n",
              "      <td>1</td>\n",
              "    </tr>\n",
              "    <tr>\n",
              "      <th>4</th>\n",
              "      <td>57</td>\n",
              "      <td>0</td>\n",
              "      <td>0</td>\n",
              "      <td>120</td>\n",
              "      <td>354</td>\n",
              "      <td>0</td>\n",
              "      <td>1</td>\n",
              "      <td>163</td>\n",
              "      <td>1</td>\n",
              "      <td>0.6</td>\n",
              "      <td>2</td>\n",
              "      <td>0</td>\n",
              "      <td>2</td>\n",
              "      <td>1</td>\n",
              "    </tr>\n",
              "  </tbody>\n",
              "</table>\n",
              "</div>"
            ],
            "text/plain": [
              "   age  sex  cp  trestbps  chol  fbs  ...  exang  oldpeak  slope  ca  thal  target\n",
              "0   63    1   3       145   233    1  ...      0      2.3      0   0     1       1\n",
              "1   37    1   2       130   250    0  ...      0      3.5      0   0     2       1\n",
              "2   41    0   1       130   204    0  ...      0      1.4      2   0     2       1\n",
              "3   56    1   1       120   236    0  ...      0      0.8      2   0     2       1\n",
              "4   57    0   0       120   354    0  ...      1      0.6      2   0     2       1\n",
              "\n",
              "[5 rows x 14 columns]"
            ]
          },
          "metadata": {
            "tags": []
          },
          "execution_count": 4
        }
      ]
    },
    {
      "cell_type": "markdown",
      "metadata": {
        "id": "O0-av7JZHH1-"
      },
      "source": [
        "# Preprocessing"
      ]
    },
    {
      "cell_type": "code",
      "metadata": {
        "id": "hJj5YdiTHEjt"
      },
      "source": [
        "minmax = MinMaxScaler()"
      ],
      "execution_count": 5,
      "outputs": []
    },
    {
      "cell_type": "code",
      "metadata": {
        "id": "z5eALSUsHKUZ"
      },
      "source": [
        "df_num = pd.DataFrame(minmax.fit_transform(df[[\"age\", \"trestbps\", \"chol\", \"thalach\", \"oldpeak\"]]))"
      ],
      "execution_count": 9,
      "outputs": []
    },
    {
      "cell_type": "code",
      "metadata": {
        "id": "VADaUcc5H44k"
      },
      "source": [
        "df_num.columns = [\"age\", \"trestbps\", \"chol\", \"thalac\", \"oldpeak\"]"
      ],
      "execution_count": 12,
      "outputs": []
    },
    {
      "cell_type": "code",
      "metadata": {
        "id": "MQ0ry55pIP_s"
      },
      "source": [
        "df_col = df.loc[:, [\"sex\", \"cp\", \"fbs\", \"restecg\", \"exang\", \"slope\", \"ca\", \"thal\", \"target\"]]"
      ],
      "execution_count": 14,
      "outputs": []
    },
    {
      "cell_type": "code",
      "metadata": {
        "id": "A81QQ5gZIh7E"
      },
      "source": [
        "df_new = pd.concat([df_num, df_col], axis=\"columns\")"
      ],
      "execution_count": 16,
      "outputs": []
    },
    {
      "cell_type": "code",
      "metadata": {
        "id": "AHjaPNSRI5D4"
      },
      "source": [
        "label = pd.get_dummies(df_new[\"target\"])"
      ],
      "execution_count": 26,
      "outputs": []
    },
    {
      "cell_type": "code",
      "metadata": {
        "id": "aey_Puz6JBcw"
      },
      "source": [
        "df_new = pd.concat([df_new, label], axis=\"columns\")\n",
        "df_new.drop(\"target\", axis=\"columns\", inplace=True)"
      ],
      "execution_count": 27,
      "outputs": []
    },
    {
      "cell_type": "code",
      "metadata": {
        "id": "GgYcSEx1LwGW"
      },
      "source": [
        "df_new = df_new.rename({0:\"tidak_terkena\", 1:\"terkena\"}, axis=\"columns\")"
      ],
      "execution_count": 32,
      "outputs": []
    },
    {
      "cell_type": "markdown",
      "metadata": {
        "id": "tgCXvC1OPq36"
      },
      "source": [
        "# Datasets Splitting"
      ]
    },
    {
      "cell_type": "code",
      "metadata": {
        "colab": {
          "base_uri": "https://localhost:8080/"
        },
        "id": "_x3Y6OdHLwy8",
        "outputId": "119d9b34-7ed4-4bda-dd15-e0d91d199524"
      },
      "source": [
        "X = df_new.loc[:, \"age\":\"thal\"]\n",
        "y = df_new.loc[:, \"tidak_terkena\":\"terkena\"]\n",
        "\n",
        "X_train, X_test, y_train, y_test = train_test_split(X, y, stratify=y, random_state=42, test_size=0.2)\n",
        "X_train.shape, X_test.shape, y_train.shape, y_test.shape"
      ],
      "execution_count": 35,
      "outputs": [
        {
          "output_type": "execute_result",
          "data": {
            "text/plain": [
              "((242, 13), (61, 13), (242, 2), (61, 2))"
            ]
          },
          "metadata": {
            "tags": []
          },
          "execution_count": 35
        }
      ]
    },
    {
      "cell_type": "markdown",
      "metadata": {
        "id": "r1S5CqljMilU"
      },
      "source": [
        "# Arsitektur Model"
      ]
    },
    {
      "cell_type": "code",
      "metadata": {
        "id": "jGKJ774AMEZw"
      },
      "source": [
        "model = Sequential([\n",
        "                    Dense(64, activation=\"relu\", input_shape=(13,)),\n",
        "                    Dense(256, activation=\"relu\"),\n",
        "                    Dropout(0.2),\n",
        "                    Dense(128, activation=\"relu\"),\n",
        "                    Dense(2, activation=\"softmax\")\n",
        "])"
      ],
      "execution_count": 37,
      "outputs": []
    },
    {
      "cell_type": "markdown",
      "metadata": {
        "id": "9Iz5ziFiNNlq"
      },
      "source": [
        "# Model Compile"
      ]
    },
    {
      "cell_type": "code",
      "metadata": {
        "id": "waJfEJZ-NEIR"
      },
      "source": [
        "model.compile(optimizer=optimizers.Adam(learning_rate=0.0003), loss=\"categorical_crossentropy\", metrics=[\"accuracy\"])"
      ],
      "execution_count": 38,
      "outputs": []
    },
    {
      "cell_type": "markdown",
      "metadata": {
        "id": "zBos5A5gNdRU"
      },
      "source": [
        "# Training"
      ]
    },
    {
      "cell_type": "code",
      "metadata": {
        "id": "cdPxu4vUNcQp"
      },
      "source": [
        "es = EarlyStopping(monitor=\"val_accuracy\", mode=\"max\", patience=30, restore_best_weights=True)"
      ],
      "execution_count": 58,
      "outputs": []
    },
    {
      "cell_type": "code",
      "metadata": {
        "colab": {
          "base_uri": "https://localhost:8080/"
        },
        "id": "emfoStpKNrp0",
        "outputId": "1815bb9e-f6ce-484e-9aaf-b6e4b8c6a9d0"
      },
      "source": [
        "hist = model.fit(X_train, y_train, batch_size=32, epochs=500, verbose=1, callbacks=[es], validation_data=(X_test, y_test))"
      ],
      "execution_count": 59,
      "outputs": [
        {
          "output_type": "stream",
          "text": [
            "Epoch 1/500\n",
            "8/8 [==============================] - 0s 12ms/step - loss: 0.3275 - accuracy: 0.8430 - val_loss: 0.3552 - val_accuracy: 0.8689\n",
            "Epoch 2/500\n",
            "8/8 [==============================] - 0s 5ms/step - loss: 0.3073 - accuracy: 0.8760 - val_loss: 0.3530 - val_accuracy: 0.8689\n",
            "Epoch 3/500\n",
            "8/8 [==============================] - 0s 4ms/step - loss: 0.2903 - accuracy: 0.8802 - val_loss: 0.3466 - val_accuracy: 0.8689\n",
            "Epoch 4/500\n",
            "8/8 [==============================] - 0s 4ms/step - loss: 0.3030 - accuracy: 0.8884 - val_loss: 0.3500 - val_accuracy: 0.8689\n",
            "Epoch 5/500\n",
            "8/8 [==============================] - 0s 4ms/step - loss: 0.2873 - accuracy: 0.8926 - val_loss: 0.3436 - val_accuracy: 0.8525\n",
            "Epoch 6/500\n",
            "8/8 [==============================] - 0s 4ms/step - loss: 0.2804 - accuracy: 0.8926 - val_loss: 0.3489 - val_accuracy: 0.8525\n",
            "Epoch 7/500\n",
            "8/8 [==============================] - 0s 5ms/step - loss: 0.2702 - accuracy: 0.8967 - val_loss: 0.3384 - val_accuracy: 0.8361\n",
            "Epoch 8/500\n",
            "8/8 [==============================] - 0s 4ms/step - loss: 0.2779 - accuracy: 0.8926 - val_loss: 0.3446 - val_accuracy: 0.8525\n",
            "Epoch 9/500\n",
            "8/8 [==============================] - 0s 5ms/step - loss: 0.2771 - accuracy: 0.9008 - val_loss: 0.3554 - val_accuracy: 0.8689\n",
            "Epoch 10/500\n",
            "8/8 [==============================] - 0s 4ms/step - loss: 0.2714 - accuracy: 0.8884 - val_loss: 0.3416 - val_accuracy: 0.8525\n",
            "Epoch 11/500\n",
            "8/8 [==============================] - 0s 4ms/step - loss: 0.2645 - accuracy: 0.8926 - val_loss: 0.3490 - val_accuracy: 0.8361\n",
            "Epoch 12/500\n",
            "8/8 [==============================] - 0s 4ms/step - loss: 0.2548 - accuracy: 0.9132 - val_loss: 0.3387 - val_accuracy: 0.8525\n",
            "Epoch 13/500\n",
            "8/8 [==============================] - 0s 4ms/step - loss: 0.2659 - accuracy: 0.8802 - val_loss: 0.3467 - val_accuracy: 0.8361\n",
            "Epoch 14/500\n",
            "8/8 [==============================] - 0s 4ms/step - loss: 0.2550 - accuracy: 0.9174 - val_loss: 0.3613 - val_accuracy: 0.8689\n",
            "Epoch 15/500\n",
            "8/8 [==============================] - 0s 4ms/step - loss: 0.2583 - accuracy: 0.9050 - val_loss: 0.3440 - val_accuracy: 0.8361\n",
            "Epoch 16/500\n",
            "8/8 [==============================] - 0s 4ms/step - loss: 0.2541 - accuracy: 0.9050 - val_loss: 0.3465 - val_accuracy: 0.8361\n",
            "Epoch 17/500\n",
            "8/8 [==============================] - 0s 4ms/step - loss: 0.2552 - accuracy: 0.9091 - val_loss: 0.3497 - val_accuracy: 0.8361\n",
            "Epoch 18/500\n",
            "8/8 [==============================] - 0s 5ms/step - loss: 0.2399 - accuracy: 0.9050 - val_loss: 0.3494 - val_accuracy: 0.8361\n",
            "Epoch 19/500\n",
            "8/8 [==============================] - 0s 5ms/step - loss: 0.2441 - accuracy: 0.9008 - val_loss: 0.3510 - val_accuracy: 0.8689\n",
            "Epoch 20/500\n",
            "8/8 [==============================] - 0s 5ms/step - loss: 0.2474 - accuracy: 0.9091 - val_loss: 0.3428 - val_accuracy: 0.8361\n",
            "Epoch 21/500\n",
            "8/8 [==============================] - 0s 4ms/step - loss: 0.2452 - accuracy: 0.9215 - val_loss: 0.3713 - val_accuracy: 0.8033\n",
            "Epoch 22/500\n",
            "8/8 [==============================] - 0s 4ms/step - loss: 0.2539 - accuracy: 0.9091 - val_loss: 0.3459 - val_accuracy: 0.8361\n",
            "Epoch 23/500\n",
            "8/8 [==============================] - 0s 4ms/step - loss: 0.2145 - accuracy: 0.9339 - val_loss: 0.3511 - val_accuracy: 0.8689\n",
            "Epoch 24/500\n",
            "8/8 [==============================] - 0s 5ms/step - loss: 0.2358 - accuracy: 0.9174 - val_loss: 0.3511 - val_accuracy: 0.8361\n",
            "Epoch 25/500\n",
            "8/8 [==============================] - 0s 6ms/step - loss: 0.2314 - accuracy: 0.9132 - val_loss: 0.3603 - val_accuracy: 0.8689\n",
            "Epoch 26/500\n",
            "8/8 [==============================] - 0s 4ms/step - loss: 0.2104 - accuracy: 0.9298 - val_loss: 0.3653 - val_accuracy: 0.8197\n",
            "Epoch 27/500\n",
            "8/8 [==============================] - 0s 5ms/step - loss: 0.2119 - accuracy: 0.9256 - val_loss: 0.3573 - val_accuracy: 0.8525\n",
            "Epoch 28/500\n",
            "8/8 [==============================] - 0s 5ms/step - loss: 0.2154 - accuracy: 0.9215 - val_loss: 0.3533 - val_accuracy: 0.8361\n",
            "Epoch 29/500\n",
            "8/8 [==============================] - 0s 4ms/step - loss: 0.1984 - accuracy: 0.9298 - val_loss: 0.3593 - val_accuracy: 0.8361\n",
            "Epoch 30/500\n",
            "8/8 [==============================] - 0s 4ms/step - loss: 0.2112 - accuracy: 0.9380 - val_loss: 0.3570 - val_accuracy: 0.8525\n",
            "Epoch 31/500\n",
            "8/8 [==============================] - 0s 4ms/step - loss: 0.2052 - accuracy: 0.9256 - val_loss: 0.3717 - val_accuracy: 0.8361\n"
          ],
          "name": "stdout"
        }
      ]
    },
    {
      "cell_type": "code",
      "metadata": {
        "colab": {
          "base_uri": "https://localhost:8080/"
        },
        "id": "trmDFxrdOBmR",
        "outputId": "07aeaaa5-dce4-46b9-e5b7-5d48f8a4213a"
      },
      "source": [
        "model.evaluate(X_train, y_train, verbose=1)"
      ],
      "execution_count": 60,
      "outputs": [
        {
          "output_type": "stream",
          "text": [
            "8/8 [==============================] - 0s 1ms/step - loss: 0.2924 - accuracy: 0.8843\n"
          ],
          "name": "stdout"
        },
        {
          "output_type": "execute_result",
          "data": {
            "text/plain": [
              "[0.2923675775527954, 0.8842975497245789]"
            ]
          },
          "metadata": {
            "tags": []
          },
          "execution_count": 60
        }
      ]
    },
    {
      "cell_type": "code",
      "metadata": {
        "colab": {
          "base_uri": "https://localhost:8080/"
        },
        "id": "GX6GD38MOoVn",
        "outputId": "7bb0930d-0b89-4762-c48a-aca24f043744"
      },
      "source": [
        "model.evaluate(X_test, y_test, verbose=1)"
      ],
      "execution_count": 61,
      "outputs": [
        {
          "output_type": "stream",
          "text": [
            "2/2 [==============================] - 0s 5ms/step - loss: 0.3552 - accuracy: 0.8689\n"
          ],
          "name": "stdout"
        },
        {
          "output_type": "execute_result",
          "data": {
            "text/plain": [
              "[0.3551628589630127, 0.868852436542511]"
            ]
          },
          "metadata": {
            "tags": []
          },
          "execution_count": 61
        }
      ]
    },
    {
      "cell_type": "code",
      "metadata": {
        "colab": {
          "base_uri": "https://localhost:8080/",
          "height": 385
        },
        "id": "vKupkYedOslo",
        "outputId": "48f550ab-35b7-4d6a-d18f-f0317d5c4944"
      },
      "source": [
        "plt.figure(figsize=(9, 5), constrained_layout=True)\n",
        "plt.title(\"Grafik Akurasi dengan Deep Learning\")\n",
        "plt.plot(hist.history[\"val_accuracy\"], color=\"r\", label=\"Test Data\")\n",
        "plt.plot(hist.history[\"accuracy\"], color=\"g\", label=\"Train Data\")\n",
        "plt.xlabel(\"Epochs\")\n",
        "plt.ylabel(\"Hasil Akurasi\")\n",
        "plt.legend()\n",
        "plt.show()"
      ],
      "execution_count": 67,
      "outputs": [
        {
          "output_type": "display_data",
          "data": {
            "image/png": "[encoded data removed]",
            "text/plain": [
              "<Figure size 648x360 with 1 Axes>"
            ]
          },
          "metadata": {
            "tags": []
          }
        }
      ]
    },
    {
      "cell_type": "code",
      "metadata": {
        "id": "U7-Zp3uMOyNA"
      },
      "source": [
        ""
      ],
      "execution_count": null,
      "outputs": []
    }
  ]
}